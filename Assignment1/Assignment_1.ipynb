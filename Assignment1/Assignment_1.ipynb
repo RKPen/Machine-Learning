{
  "cells": [
    {
      "cell_type": "markdown",
      "metadata": {
        "id": "uf8zksoawaHq"
      },
      "source": [
        "## Assignment 1: Customer's Shopping Data\n",
        "\n",
        "The goal of this assignment is to develop machine learning models that can predict the spending behavior of customers in a shop based on their characteristics. This prediction can help the shop in targeting its customers with customized strategies based on their spending behaviors, thus increasing its profits. Towards this goal, you should load the customer’s dataset attached to this assignment, develop linear and logistic regression models for spending predictions, and finally evaluate the performance of your trained models on test data.\n",
        "\n",
        "*Note: Please include comments to your code so it can be easily followed and understood.*"
      ]
    },
    {
      "cell_type": "markdown",
      "metadata": {
        "id": "oxFKBF_4xByj"
      },
      "source": [
        "### Loading the Data\n",
        "\n",
        "The customer’s shopping dataset is split into training and testing data.  The training data will be used to build the linear and logistic regression models, and the test data will be used to evaluate their performance in customer’s spending predictions.\n"
      ]
    },
    {
      "cell_type": "markdown",
      "metadata": {
        "id": "E7PmButs0TOj"
      },
      "source": [
        "Importing the necessary python libraries to load the data."
      ]
    },
    {
      "cell_type": "code",
      "execution_count": 32,
      "metadata": {
        "id": "tg2D2bbw0c5c"
      },
      "outputs": [],
      "source": [
        "#import libraries\n",
        "import pandas as pd"
      ]
    },
    {
      "cell_type": "code",
      "execution_count": 33,
      "metadata": {
        "id": "9s0DbkyuxivW"
      },
      "outputs": [],
      "source": [
        "#Load the train_data.csv file in python, and assign it to a variable named \"train\".\n",
        "train = pd.read_csv('train_data.csv')"
      ]
    },
    {
      "cell_type": "code",
      "execution_count": 34,
      "metadata": {
        "id": "8e-9xhC4xxDp"
      },
      "outputs": [],
      "source": [
        "#Load the test_data.csv file in python, and assign it to a variable named \"test\".\n",
        "test = pd.read_csv('test_data.csv')"
      ]
    },
    {
      "cell_type": "markdown",
      "metadata": {
        "id": "_7e70o39x6h4"
      },
      "source": [
        "### Linear Regression\n",
        "\n",
        "In this section, you will train a linear regression model to predict the spending score of the customers in the shop. You should use the “Spending Score” column as the target variable and all the remaining columns as the independent variables (i.e., features).\n",
        "\n",
        "*Note: Make sure to exclude the “Spending Category” column in this section of the assignment, given that it is derived from the “Spending Score” column (i.e., to avoid data leakage).*\n",
        "\n"
      ]
    },
    {
      "cell_type": "markdown",
      "metadata": {
        "id": "6UiL-74i04Hq"
      },
      "source": [
        "Importing the necessary python libraries to call the linear regression model and the MSE metric."
      ]
    },
    {
      "cell_type": "code",
      "execution_count": 35,
      "metadata": {
        "id": "f2VvRdAQ1KRv"
      },
      "outputs": [],
      "source": [
        "#import libraries\n",
        "import sklearn\n",
        "from sklearn.linear_model import LinearRegression\n",
        "from sklearn.metrics import mean_squared_error"
      ]
    },
    {
      "cell_type": "markdown",
      "metadata": {
        "id": "OSI8hHVD1nNr"
      },
      "source": [
        "Dropping the \"Spending Category\" column from the training and testing data."
      ]
    },
    {
      "cell_type": "code",
      "execution_count": 36,
      "metadata": {
        "id": "OKIyS0nl1mI6"
      },
      "outputs": [],
      "source": [
        "#Drop Spending Category column\n",
        "linear_reg_train = train.drop(columns=\"Spending Category\")\n",
        "linear_reg_test = test.drop(columns=\"Spending Category\")"
      ]
    },
    {
      "cell_type": "markdown",
      "metadata": {
        "id": "6QoVhE8l28rT"
      },
      "source": [
        "In the remaining part of this section, you should use the linear_reg_train and linear_reg_test dataframes instead of the train and test dataframes."
      ]
    },
    {
      "cell_type": "code",
      "execution_count": 37,
      "metadata": {
        "id": "hFNyG1NPyFCE"
      },
      "outputs": [],
      "source": [
        "#Train a linear regression model to predict the spending score of a customer\n",
        "#You should use default values for all parameters\n",
        "\n",
        "# Import libraries to be able to use categorical columns as well\n",
        "from sklearn.compose import ColumnTransformer\n",
        "from sklearn.pipeline import Pipeline\n",
        "from sklearn.preprocessing import OneHotEncoder\n",
        "\n",
        "# Extract features (X) and target variable (y) from the training data\n",
        "X_train = linear_reg_train[['Gender' , 'Age', 'Annual Income', 'Profession' , 'Work Experience', 'Family Size']]\n",
        "Y_train = linear_reg_train['Spending Score']\n",
        "\n",
        "# Extract features (X) and target variable (y) from the testing data\n",
        "X_test = linear_reg_test[['Gender' , 'Age', 'Annual Income', 'Profession' , 'Work Experience', 'Family Size']]\n",
        "Y_test = linear_reg_test['Spending Score']\n",
        "\n",
        "\n",
        "# Create a column transformer to handle categorical variables\n",
        "preprocessor = ColumnTransformer(\n",
        "    transformers=[\n",
        "        ('cat', OneHotEncoder(), ['Gender', 'Profession'])\n",
        "    ],\n",
        "    remainder='passthrough'\n",
        ")\n",
        "\n",
        "# Initialize the Linear Regression model\n",
        "model = LinearRegression()\n",
        "\n",
        "# Create a pipeline\n",
        "pipeline = Pipeline([\n",
        "    ('preprocessor', preprocessor),\n",
        "    ('regressor', model)\n",
        "])\n",
        "\n",
        "# Train the model on the training data\n",
        "pipeline.fit(X_train, Y_train)\n",
        "\n",
        "# Make predictions on the test data\n",
        "Y_pred = pipeline.predict(X_test)\n"
      ]
    },
    {
      "cell_type": "code",
      "execution_count": 38,
      "metadata": {
        "id": "4Hg-rV-ryGv2"
      },
      "outputs": [
        {
          "name": "stdout",
          "output_type": "stream",
          "text": [
            "Mean Squared Error: 780.7824887124127\n"
          ]
        }
      ],
      "source": [
        "#Compute the MSE metric to evaluate the trained model using the test data\n",
        "mse = mean_squared_error(Y_test, Y_pred)\n",
        "\n",
        "# Print the MSE\n",
        "print(f'Mean Squared Error: {mse}')"
      ]
    },
    {
      "cell_type": "markdown",
      "metadata": {
        "id": "ZmFM96YyydrM"
      },
      "source": [
        "### Logistic Regression\n",
        "\n",
        "In this section, you will train a logistic regression model to predict the spending category of a customer in the shop, as either High or Low.  The target variable will be the “Spending Category” column, and all the remaining columns will be the independent variables.\n",
        "\n",
        "*Note: Don’t use the “Spending Score” column in this section of the assignment, given that “Spending Category” column is derived from it.*\n",
        "\n",
        "\n"
      ]
    },
    {
      "cell_type": "markdown",
      "metadata": {
        "id": "rHGjwLAh1Ri8"
      },
      "source": [
        "Importing the necessary python libraries to call the logistic regression model and the Accuracy metric.\n",
        "\n"
      ]
    },
    {
      "cell_type": "code",
      "execution_count": 39,
      "metadata": {
        "id": "MVNWPxZq1SEi"
      },
      "outputs": [],
      "source": [
        "#import libraries\n",
        "from sklearn.linear_model import LogisticRegression\n",
        "from sklearn.metrics import accuracy_score"
      ]
    },
    {
      "cell_type": "markdown",
      "metadata": {
        "id": "BLKD7o2N2NoJ"
      },
      "source": [
        "Dropping the Spending Score column from the training and testing data."
      ]
    },
    {
      "cell_type": "code",
      "execution_count": 40,
      "metadata": {
        "id": "Xh31WhiI2S2o"
      },
      "outputs": [],
      "source": [
        "#Drop Spending Score column\n",
        "logistic_reg_train = train.drop(columns=\"Spending Score\")\n",
        "logistic_reg_test = test.drop(columns=\"Spending Score\")"
      ]
    },
    {
      "cell_type": "markdown",
      "metadata": {
        "id": "Xy0rr_J62sEV"
      },
      "source": [
        "In the remaining part of this section, you should use the logistic_reg_train and logistic_reg_test dataframes instead of the train and test dataframes."
      ]
    },
    {
      "cell_type": "code",
      "execution_count": 41,
      "metadata": {
        "id": "KHCsqOR1ydrN"
      },
      "outputs": [
        {
          "name": "stderr",
          "output_type": "stream",
          "text": [
            "c:\\Users\\Karim\\AppData\\Local\\Programs\\Python\\Python312\\Lib\\site-packages\\sklearn\\linear_model\\_logistic.py:469: ConvergenceWarning: lbfgs failed to converge (status=1):\n",
            "STOP: TOTAL NO. of ITERATIONS REACHED LIMIT.\n",
            "\n",
            "Increase the number of iterations (max_iter) or scale the data as shown in:\n",
            "    https://scikit-learn.org/stable/modules/preprocessing.html\n",
            "Please also refer to the documentation for alternative solver options:\n",
            "    https://scikit-learn.org/stable/modules/linear_model.html#logistic-regression\n",
            "  n_iter_i = _check_optimize_result(\n"
          ]
        }
      ],
      "source": [
        "#Train a logistic regression model to predict the spending category of a customer\n",
        "#You should use default values for all parameters\n",
        "\n",
        "# Import libraries to be able to use categorical columns as well\n",
        "from sklearn.preprocessing import OneHotEncoder\n",
        "from sklearn.compose import ColumnTransformer\n",
        "from sklearn.pipeline import Pipeline\n",
        "\n",
        "# Extract features (X) and target variable (y) from the training data\n",
        "X_train = logistic_reg_train[['Gender', 'Age', 'Annual Income', 'Profession' , 'Work Experience', 'Family Size']]\n",
        "Y_train = logistic_reg_train['Spending Category']\n",
        "\n",
        "# Extract features (X) and target variable (y) from the testing data\n",
        "X_test = logistic_reg_test[['Gender','Age', 'Annual Income', 'Profession', 'Work Experience', 'Family Size']]\n",
        "Y_test = logistic_reg_test['Spending Category']\n",
        "\n",
        "preprocessor = ColumnTransformer(\n",
        "    transformers=[\n",
        "        ('cat', OneHotEncoder(), ['Gender', 'Profession'])\n",
        "    ],\n",
        "    remainder='passthrough'\n",
        ")\n",
        "\n",
        "#Initialize the Logistic Regression model\n",
        "model = LogisticRegression()\n",
        "\n",
        "# Create a pipeline\n",
        "pipeline = Pipeline([\n",
        "    ('preprocessor', preprocessor),\n",
        "    ('classifier', model)\n",
        "])\n",
        "\n",
        "# Train the model on the training data\n",
        "pipeline.fit(X_train, Y_train)\n",
        "\n",
        "#Make preditions on the test data\n",
        "Y_pred = pipeline.predict(X_test)"
      ]
    },
    {
      "cell_type": "code",
      "execution_count": 42,
      "metadata": {
        "id": "_O8xmXhvydrN"
      },
      "outputs": [
        {
          "name": "stdout",
          "output_type": "stream",
          "text": [
            "Accuracy: 0.5241730279898219\n"
          ]
        }
      ],
      "source": [
        "#Compute the Accuracy metric to evaluate trained model on the test data\n",
        "accuracy = accuracy_score(Y_test , Y_pred)\n",
        "\n",
        "#Print the accuracy metric\n",
        "print(f\"Accuracy: {accuracy}\")\n"
      ]
    }
  ],
  "metadata": {
    "colab": {
      "provenance": []
    },
    "kernelspec": {
      "display_name": "Python 3 (ipykernel)",
      "language": "python",
      "name": "python3"
    },
    "language_info": {
      "codemirror_mode": {
        "name": "ipython",
        "version": 3
      },
      "file_extension": ".py",
      "mimetype": "text/x-python",
      "name": "python",
      "nbconvert_exporter": "python",
      "pygments_lexer": "ipython3",
      "version": "3.12.2"
    }
  },
  "nbformat": 4,
  "nbformat_minor": 0
}
